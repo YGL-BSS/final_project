{
 "cells": [
  {
   "cell_type": "code",
   "execution_count": 15,
   "source": [
    "import cv2\r\n",
    "import numpy as np"
   ],
   "outputs": [],
   "metadata": {}
  },
  {
   "cell_type": "code",
   "execution_count": 16,
   "source": [
    "#YOLO 로드\r\n",
    "net = cv2.dnn.readNet('cross-hands.weights','cross-hands.cfg')\r\n",
    "layer_names = net.getLayerNames()\r\n",
    "with open(\"cross-hands.names\", \"r\") as f:\r\n",
    "    classes = [line.strip() for line in f.readlines()]\r\n",
    "output_layers = [layer_names[i[0]- 1] for i in net.getUnconnectedOutLayers()]\r\n",
    "colors = np.random.uniform(0, 255, size=100)"
   ],
   "outputs": [],
   "metadata": {}
  },
  {
   "cell_type": "code",
   "execution_count": 32,
   "source": [
    "path = 'C:/Python/YGL_final_project/Pictures-resized/20210716_145925.jpg'\r\n",
    "img = cv2.imread(path)\r\n",
    "img = cv2.resize(img, None, fx=0.4, fy=0.4)\r\n",
    "height, width, channels = img.shape"
   ],
   "outputs": [],
   "metadata": {}
  },
  {
   "cell_type": "code",
   "execution_count": 28,
   "source": [
    "blob = cv2.dnn.blobFromImage(img, 0.00392,(320,320), (0, 0, 0), True, crop=False)\r\n",
    "net.setInput(blob)\r\n",
    "outs = net.forward(output_layers)"
   ],
   "outputs": [],
   "metadata": {}
  },
  {
   "cell_type": "code",
   "execution_count": 29,
   "source": [
    "class_ids = []\r\n",
    "confidences = []\r\n",
    "boxes = []\r\n",
    "for out in outs:\r\n",
    "    for detection in out:\r\n",
    "        scores = detection[5:]\r\n",
    "        class_id = np.argmax(scores)\r\n",
    "        confidence = scores[class_id]\r\n",
    "        if confidence > 0.5:\r\n",
    "            # Object detected\r\n",
    "            center_x = int(detection[0] * width)\r\n",
    "            center_y = int(detection[1] * height)\r\n",
    "            w = int(detection[2] * width)\r\n",
    "            h = int(detection[3] * height)\r\n",
    "\r\n",
    "            # Rectangle coordinates\r\n",
    "            x = int(center_x - w / 2)\r\n",
    "            y = int(center_y - h / 2)\r\n",
    "\r\n",
    "            boxes.append([x, y, w, h])\r\n",
    "            confidences.append(float(confidence))\r\n",
    "            class_ids.append(class_id)\r\n",
    "            "
   ],
   "outputs": [],
   "metadata": {}
  },
  {
   "cell_type": "code",
   "execution_count": 30,
   "source": [
    "indexes = cv2.dnn.NMSBoxes(boxes, confidences, 0.5, 0.4)"
   ],
   "outputs": [],
   "metadata": {}
  },
  {
   "cell_type": "code",
   "execution_count": 31,
   "source": [
    "font = cv2.FONT_HERSHEY_PLAIN\r\n",
    "for i in range(len(boxes)):\r\n",
    "    if i in indexes:\r\n",
    "        x, y, w, h = boxes[i]\r\n",
    "        color = colors[i]\r\n",
    "        cv2.rectangle(img, (x,y), (x + w, y + h), color, 2)\r\n",
    "\r\n",
    "cv2.imshow('Image', img)\r\n",
    "cv2.imwrite('sample-detect-hands2.jpg', img)\r\n",
    "cv2.waitKey(0)\r\n",
    "cv2.destroyAllWindows()"
   ],
   "outputs": [],
   "metadata": {}
  },
  {
   "cell_type": "code",
   "execution_count": null,
   "source": [],
   "outputs": [],
   "metadata": {}
  }
 ],
 "metadata": {
  "orig_nbformat": 4,
  "language_info": {
   "name": "python"
  }
 },
 "nbformat": 4,
 "nbformat_minor": 2
}